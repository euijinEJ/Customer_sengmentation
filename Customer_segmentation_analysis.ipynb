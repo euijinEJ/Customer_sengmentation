{
 "cells": [
  {
   "cell_type": "code",
   "execution_count": 1,
   "id": "7fab7af8",
   "metadata": {},
   "outputs": [],
   "source": [
    "import pandas as pd\n",
    "from sklearn.cluster import KMeans"
   ]
  },
  {
   "cell_type": "code",
   "execution_count": 2,
   "id": "d713e4e2",
   "metadata": {},
   "outputs": [],
   "source": [
    "# Read clustered_data\n",
    "clustered_data = pd.read_csv('/Users/ejshin/Documents/UCI/Foundation of BA/Group project/Clustering Data.csv')"
   ]
  },
  {
   "cell_type": "code",
   "execution_count": 3,
   "id": "3a8ea35e",
   "metadata": {},
   "outputs": [
    {
     "data": {
      "text/plain": [
       "uid                          0\n",
       "PNRLocatorID                 0\n",
       "avg_amt                      0\n",
       "round_trip                   0\n",
       "group_size                   0\n",
       "                            ..\n",
       "UflyMemberStatus_Standard    0\n",
       "seasonality_Q1               0\n",
       "seasonality_Q2               0\n",
       "seasonality_Q3               0\n",
       "seasonality_Q4               0\n",
       "Length: 90, dtype: int64"
      ]
     },
     "execution_count": 3,
     "metadata": {},
     "output_type": "execute_result"
    }
   ],
   "source": [
    "# Check the missing value\n",
    "missing_values = clustered_data.isnull().sum()\n",
    "missing_values"
   ]
  },
  {
   "cell_type": "code",
   "execution_count": 4,
   "id": "fe365bd1",
   "metadata": {},
   "outputs": [],
   "source": [
    "# To preserve the original data\n",
    "c_data = clustered_data.copy()"
   ]
  },
  {
   "cell_type": "code",
   "execution_count": 5,
   "id": "dbcb90e4",
   "metadata": {},
   "outputs": [
    {
     "name": "stdout",
     "output_type": "stream",
     "text": [
      "uid                           object\n",
      "PNRLocatorID                  object\n",
      "avg_amt                      float64\n",
      "round_trip                     int64\n",
      "group_size                   float64\n",
      "                              ...   \n",
      "UflyMemberStatus_Standard      int64\n",
      "seasonality_Q1                 int64\n",
      "seasonality_Q2                 int64\n",
      "seasonality_Q3                 int64\n",
      "seasonality_Q4                 int64\n",
      "Length: 90, dtype: object\n"
     ]
    }
   ],
   "source": [
    "# Check the types of the columns\n",
    "print(c_data.dtypes)"
   ]
  },
  {
   "cell_type": "code",
   "execution_count": 6,
   "id": "08872613",
   "metadata": {},
   "outputs": [],
   "source": [
    "# Drop the categorical value\n",
    "c_data = clustered_data.drop(columns=['uid','PNRLocatorID'])"
   ]
  },
  {
   "cell_type": "code",
   "execution_count": 7,
   "id": "0230ecbd",
   "metadata": {},
   "outputs": [],
   "source": [
    "# Create clusters by KMeans\n",
    "kmeans = KMeans(n_clusters=5, n_init='auto')\n",
    "kmeans.fit(c_data)\n",
    "\n",
    "clustered_data['cluster'] = kmeans.labels_"
   ]
  },
  {
   "cell_type": "code",
   "execution_count": 8,
   "id": "64b03b3e",
   "metadata": {},
   "outputs": [],
   "source": [
    "# Read customer_data\n",
    "customer_data = pd.read_csv('/Users/ejshin/Documents/UCI/Foundation of BA/Group project/sample_data_transformed.csv',low_memory=False)"
   ]
  },
  {
   "cell_type": "code",
   "execution_count": 9,
   "id": "ea6f51d9",
   "metadata": {},
   "outputs": [],
   "source": [
    "# Delete unnecessary index column of the customer_data\n",
    "del customer_data['Unnamed: 0']"
   ]
  },
  {
   "cell_type": "code",
   "execution_count": 10,
   "id": "22c2b650",
   "metadata": {},
   "outputs": [],
   "source": [
    "# Merge two dataframes\n",
    "final_dataframe = customer_data.merge(clustered_data[['uid', 'cluster']], on='uid', how='left')"
   ]
  },
  {
   "cell_type": "code",
   "execution_count": 11,
   "id": "b6775bdd",
   "metadata": {},
   "outputs": [],
   "source": [
    "# Export the dataframe to csv file\n",
    "final_dataframe.to_csv('final_analyze_data.csv')"
   ]
  },
  {
   "cell_type": "code",
   "execution_count": null,
   "id": "e95e752a",
   "metadata": {},
   "outputs": [],
   "source": []
  }
 ],
 "metadata": {
  "kernelspec": {
   "display_name": "Python 3 (ipykernel)",
   "language": "python",
   "name": "python3"
  },
  "language_info": {
   "codemirror_mode": {
    "name": "ipython",
    "version": 3
   },
   "file_extension": ".py",
   "mimetype": "text/x-python",
   "name": "python",
   "nbconvert_exporter": "python",
   "pygments_lexer": "ipython3",
   "version": "3.11.3"
  }
 },
 "nbformat": 4,
 "nbformat_minor": 5
}
